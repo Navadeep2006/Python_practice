{
 "cells": [
  {
   "cell_type": "code",
   "execution_count": 1,
   "id": "039497f8-b882-40a2-a722-c5af6aaffdce",
   "metadata": {},
   "outputs": [
    {
     "name": "stdin",
     "output_type": "stream",
     "text": [
      " 5\n"
     ]
    },
    {
     "name": "stdout",
     "output_type": "stream",
     "text": [
      "78.57142857142857\n"
     ]
    }
   ],
   "source": [
    "x=int(input())\n",
    "area=22/7*(x**2)\n",
    "print(area)"
   ]
  },
  {
   "cell_type": "code",
   "execution_count": 6,
   "id": "f51bbd9f-2793-4bac-a069-9ce8f8b3868f",
   "metadata": {},
   "outputs": [
    {
     "name": "stdin",
     "output_type": "stream",
     "text": [
      " Hyderabad\n"
     ]
    },
    {
     "name": "stdout",
     "output_type": "stream",
     "text": [
      "3\n"
     ]
    }
   ],
   "source": [
    "n=input()\n",
    "count=0\n",
    "for chr in n:\n",
    "    if chr in \"aeiouAEIOU\":\n",
    "        count+=1\n",
    "print(count)"
   ]
  },
  {
   "cell_type": "code",
   "execution_count": 13,
   "id": "eb964bd6-6e15-4dc2-857f-e6a1b920028b",
   "metadata": {},
   "outputs": [
    {
     "name": "stdin",
     "output_type": "stream",
     "text": [
      " India\n"
     ]
    },
    {
     "name": "stdout",
     "output_type": "stream",
     "text": [
      "Consonants: 2\n",
      "vowels: 3\n"
     ]
    }
   ],
   "source": [
    "x=input()\n",
    "vowels=\"aieouAIEOU\"\n",
    "c=0\n",
    "e=0\n",
    "for i in x:\n",
    "    if i not in vowels:\n",
    "        c+=1\n",
    "    else:\n",
    "        e+=1\n",
    "print(\"Consonants:\",c)\n",
    "print(\"vowels:\",e)"
   ]
  },
  {
   "cell_type": "code",
   "execution_count": 20,
   "id": "56a7e2a6-e479-41f7-a9bf-73af9ca5b7fb",
   "metadata": {},
   "outputs": [
    {
     "name": "stdout",
     "output_type": "stream",
     "text": [
      "[6.0, 42, 56, 14.0, 9.0, 7.0]\n"
     ]
    }
   ],
   "source": [
    "n = [30, 42, 56, 70, 45, 35]\n",
    "a= []\n",
    "for i in n:\n",
    "    if i % 5 == 0:\n",
    "        a.append(i / 5)\n",
    "    else:\n",
    "        a.append(i)\n",
    "print(a)"
   ]
  },
  {
   "cell_type": "code",
   "execution_count": 24,
   "id": "573eb939-f1de-4ebd-8839-b247ca3fb04b",
   "metadata": {},
   "outputs": [
    {
     "name": "stdout",
     "output_type": "stream",
     "text": [
      "[23, 45, 99, 20]\n",
      "[24, 67, 54]\n"
     ]
    }
   ],
   "source": [
    "n = [23, 24, 45, 67, 99, 54, 20]\n",
    "e = []  \n",
    "o = []  \n",
    "for i in range(len(n)):\n",
    "    if i % 2 == 0:\n",
    "        e.append(n[i])\n",
    "    else:\n",
    "        o.append(n[i])\n",
    "print(e)\n",
    "print(o)"
   ]
  },
  {
   "cell_type": "code",
   "execution_count": 25,
   "id": "43f4493c-9503-4136-b4a4-3d1fc5cb9d11",
   "metadata": {},
   "outputs": [
    {
     "name": "stdout",
     "output_type": "stream",
     "text": [
      "150\n",
      "310\n"
     ]
    }
   ],
   "source": [
    "n=[20,35,45,30,60,75,85,45,25,40]\n",
    "o=0\n",
    "e=0\n",
    "for i in n:\n",
    "    if i % 2 == 0:\n",
    "        e+=i\n",
    "    else:\n",
    "        o+=i\n",
    "print(e)\n",
    "print(o)"
   ]
  },
  {
   "cell_type": "code",
   "execution_count": 27,
   "id": "16e55a7a-5b32-422a-b841-4efd528ab487",
   "metadata": {},
   "outputs": [
    {
     "name": "stdout",
     "output_type": "stream",
     "text": [
      "16\n",
      "29\n"
     ]
    }
   ],
   "source": [
    "n=[20,35,45,30,60,75,85,45,25,40]\n",
    "o=0\n",
    "e=0\n",
    "for i in range(len(n)):\n",
    "    if n[i] % 2 == 0:\n",
    "        e+=i\n",
    "    else:\n",
    "        o+=i\n",
    "print(e)\n",
    "print(o)"
   ]
  },
  {
   "cell_type": "code",
   "execution_count": 2,
   "id": "50abe3dc-af0e-4b08-91be-88c1274cfe1c",
   "metadata": {},
   "outputs": [
    {
     "name": "stdout",
     "output_type": "stream",
     "text": [
      "['delhi', 'Dubai', 'Dadar', 'Danish', 'daridam']\n"
     ]
    }
   ],
   "source": [
    "n = ['Mumbai', 'Hyd', 'delhi', 'Dubai', 'Jaipur', 'Kolkata', 'Chennai', 'Dadar', 'Danish', 'japan', 'madhya', 'hero', 'daridam']\n",
    "d = []\n",
    "for chr in n:\n",
    "    if chr.startswith('D') or chr.startswith('d'):\n",
    "        d.append(chr)\n",
    "print(d)"
   ]
  },
  {
   "cell_type": "code",
   "execution_count": 3,
   "id": "ece85ddf-bf65-412a-93bd-4453228fb29b",
   "metadata": {},
   "outputs": [
    {
     "name": "stdout",
     "output_type": "stream",
     "text": [
      "{'Mumbai': 50, 'Hyd': 40, 'delhi': 30, 'Dubai': 20, 'Jaipur': 100, 'Kolkata': 350, 'Chennai': 280, 'Dadar': 200}\n"
     ]
    }
   ],
   "source": [
    "n = ['Mumbai', 'Hyd', 'delhi', 'Dubai', 'Jaipur', 'Kolkata', 'Chennai', 'Dadar', 'Danish', 'japan', 'madhya', 'hero', 'daridam']\n",
    "i = [50, 40, 30, 20, 100, 350, 280, 200]\n",
    "d = {}\n",
    "for a in range(len(i)):\n",
    "    d[n[a]] = i[a]\n",
    "\n",
    "print(d)"
   ]
  },
  {
   "cell_type": "code",
   "execution_count": null,
   "id": "3c2ed82a-2916-4cb3-8b28-86826678046d",
   "metadata": {},
   "outputs": [],
   "source": []
  }
 ],
 "metadata": {
  "kernelspec": {
   "display_name": "Python [conda env:base] *",
   "language": "python",
   "name": "conda-base-py"
  },
  "language_info": {
   "codemirror_mode": {
    "name": "ipython",
    "version": 3
   },
   "file_extension": ".py",
   "mimetype": "text/x-python",
   "name": "python",
   "nbconvert_exporter": "python",
   "pygments_lexer": "ipython3",
   "version": "3.13.5"
  }
 },
 "nbformat": 4,
 "nbformat_minor": 5
}
